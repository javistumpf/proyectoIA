{
  "nbformat": 4,
  "nbformat_minor": 0,
  "metadata": {
    "colab": {
      "provenance": [],
      "authorship_tag": "ABX9TyOAL69fjWs7fJNSIvWV1rJD",
      "include_colab_link": true
    },
    "kernelspec": {
      "name": "python3",
      "display_name": "Python 3"
    },
    "language_info": {
      "name": "python"
    }
  },
  "cells": [
    {
      "cell_type": "markdown",
      "metadata": {
        "id": "view-in-github",
        "colab_type": "text"
      },
      "source": [
        "<a href=\"https://colab.research.google.com/github/javistumpf/proyectoIA/blob/main/2%C2%B0_Entrega_IA_Stumpf.ipynb\" target=\"_parent\"><img src=\"https://colab.research.google.com/assets/colab-badge.svg\" alt=\"Open In Colab\"/></a>"
      ]
    },
    {
      "cell_type": "markdown",
      "source": [],
      "metadata": {
        "id": "w5F8a19Ya6rR"
      }
    },
    {
      "cell_type": "markdown",
      "source": [
        "### Configuración de la API"
      ],
      "metadata": {
        "id": "Ybbp6gjjJFwK"
      }
    },
    {
      "cell_type": "code",
      "execution_count": 1,
      "metadata": {
        "id": "69uWx483H4Eg"
      },
      "outputs": [],
      "source": [
        "import openai\n",
        "openai.api_key= '***********'"
      ]
    },
    {
      "cell_type": "markdown",
      "source": [
        "### Variables"
      ],
      "metadata": {
        "id": "meE2NkfwI_eQ"
      }
    },
    {
      "cell_type": "code",
      "source": [
        "# Rol de system\n",
        "context = ''\n",
        "\n",
        "# Rol de user\n",
        "prompt= ''"
      ],
      "metadata": {
        "id": "T1RTT9bIITzC"
      },
      "execution_count": null,
      "outputs": []
    },
    {
      "cell_type": "markdown",
      "source": [
        "### Solicitud"
      ],
      "metadata": {
        "id": "Hk0K9_2sJBmj"
      }
    },
    {
      "cell_type": "code",
      "source": [
        "conversation=  [\n",
        "        {'role': 'system', 'content': context},\n",
        "        {'role': 'user', 'content': prompt}\n",
        "    ]\n",
        "\n",
        "response= openai.ChatCompletion.create(\n",
        "    model= 'gpt-3.5-turbo',\n",
        "    messages= conversation,\n",
        "    max_tokens= 50\n",
        ")\n",
        "\n",
        "message= response.choices[0].message.content\n",
        "print(message)"
      ],
      "metadata": {
        "id": "UuiOVwfeWtO1"
      },
      "execution_count": null,
      "outputs": []
    },
    {
      "cell_type": "code",
      "source": [
        "response= openai.image.create(\n",
        "    prompt= prompt,\n",
        "    n= 1,\n",
        "    size= '1024x1024'\n",
        ")\n",
        "\n",
        "print(response['data'][0]['url'])"
      ],
      "metadata": {
        "id": "83BQ5mP4bhbc"
      },
      "execution_count": null,
      "outputs": []
    },
    {
      "cell_type": "markdown",
      "source": [
        "### Interpretación de la respuesta"
      ],
      "metadata": {
        "id": "I3JxOt37Y4CA"
      }
    },
    {
      "cell_type": "code",
      "source": [
        "result= response.choices[0]['message']['content'].strip()\n",
        "print(result)"
      ],
      "metadata": {
        "id": "x496TJCcY6wn"
      },
      "execution_count": null,
      "outputs": []
    }
  ]
}